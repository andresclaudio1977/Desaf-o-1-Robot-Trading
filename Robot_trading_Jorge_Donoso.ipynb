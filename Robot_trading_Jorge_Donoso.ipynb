{
  "cells": [
    {
      "cell_type": "markdown",
      "metadata": {
        "id": "LwB9v7j50AuE"
      },
      "source": [
        "##1.Configuración del ambiente"
      ]
    },
    {
      "cell_type": "code",
      "execution_count": null,
      "metadata": {
        "id": "erjIGwAU0IrR"
      },
      "outputs": [],
      "source": [
        "global df_bitcoin, precio_actual,tendencia, media_bitcoin, algoritmo_decision,df_bitcoin_limpio"
      ]
    },
    {
      "cell_type": "code",
      "execution_count": null,
      "metadata": {
        "id": "VRQsrozq0JEV",
        "colab": {
          "base_uri": "https://localhost:8080/"
        },
        "outputId": "f49b7089-8a07-4024-ce13-dbd64d172dad"
      },
      "outputs": [
        {
          "output_type": "stream",
          "name": "stdout",
          "text": [
            "Python 3.10.12\n",
            "-----\n"
          ]
        }
      ],
      "source": [
        "!python -V\n",
        "print('-----')"
      ]
    },
    {
      "cell_type": "code",
      "execution_count": null,
      "metadata": {
        "id": "UkU2CUbi0JQ2",
        "colab": {
          "base_uri": "https://localhost:8080/"
        },
        "outputId": "fbdda573-f232-4fec-a97b-a1342035a21f"
      },
      "outputs": [
        {
          "output_type": "stream",
          "name": "stdout",
          "text": [
            "Name: pandas\n",
            "Version: 1.5.3\n",
            "-----\n"
          ]
        }
      ],
      "source": [
        "!pip show Pandas | grep 'Name\\|Version'\n",
        "print('-----')"
      ]
    },
    {
      "cell_type": "code",
      "execution_count": null,
      "metadata": {
        "id": "6vVr6oyA04rK",
        "colab": {
          "base_uri": "https://localhost:8080/"
        },
        "outputId": "1ef92844-c11d-4a12-a45b-8a93440d3a5a"
      },
      "outputs": [
        {
          "output_type": "stream",
          "name": "stdout",
          "text": [
            "Name: numpy\n",
            "Version: 1.23.5\n",
            "-----\n"
          ]
        }
      ],
      "source": [
        "!pip show Numpy | grep 'Name\\|Version'\n",
        "print('-----')"
      ]
    },
    {
      "cell_type": "code",
      "execution_count": null,
      "metadata": {
        "id": "IK7kirXR1FRw",
        "colab": {
          "base_uri": "https://localhost:8080/"
        },
        "outputId": "01801329-71d3-468a-e6b8-759f773ba785"
      },
      "outputs": [
        {
          "output_type": "stream",
          "name": "stdout",
          "text": [
            "Name: matplotlib\n",
            "Version: 3.7.1\n",
            "-----\n"
          ]
        }
      ],
      "source": [
        "!pip show matplotlib | grep 'Name\\|Version'\n",
        "print('-----')"
      ]
    },
    {
      "cell_type": "code",
      "execution_count": null,
      "metadata": {
        "id": "yAGKiSyz2j4x"
      },
      "outputs": [],
      "source": [
        "import pandas as pd  # Importar pandas\n",
        "import numpy as np   # Importar numpy\n",
        "import matplotlib.pyplot as plt  # Importar matplotlib\n",
        "import yfinance as yf  # Para obtener datos históricos\n",
        "import datetime  # para usar en parte 2.1\n",
        "\n",
        "import requests\n",
        "import bs4\n",
        "from bs4 import BeautifulSoup\n"
      ]
    },
    {
      "cell_type": "markdown",
      "metadata": {
        "id": "mDD6xrWh1cnB"
      },
      "source": [
        "## 2.Obtención de datos"
      ]
    },
    {
      "cell_type": "markdown",
      "metadata": {
        "id": "XjhSsUVK41Eu"
      },
      "source": [
        "**2.1 PRECIOS HISTÓRICOS DEL BITCOIN**"
      ]
    },
    {
      "cell_type": "code",
      "execution_count": null,
      "metadata": {
        "id": "Dk8jgQaS1izV"
      },
      "outputs": [],
      "source": [
        "def importar_base_bitcoin():\n",
        "  global df_bitcoin, precio_actual,tendencia, media_bitcoin, algoritmo_decision,df_bitcoin_limpio\n",
        "  today = datetime.date.today()\n",
        "  last_week = today-datetime.timedelta(days=7)\n",
        "  BTC_USD = yf.download('BTC-USD', start =last_week, end = today,interval=\"5m\")\n",
        "  df_bitcoin = pd.DataFrame(BTC_USD)"
      ]
    },
    {
      "cell_type": "markdown",
      "metadata": {
        "id": "mJrM-sdLgohD"
      },
      "source": [
        "**2.2 INDICADORES DE TENDENCIAS**\n"
      ]
    },
    {
      "cell_type": "code",
      "execution_count": null,
      "metadata": {
        "id": "BTI9jL8AgtRI"
      },
      "outputs": [],
      "source": [
        "def extraer_tendencias():\n",
        "  global df_bitcoin, precio_actual,tendencia, media_bitcoin, algoritmo_decision,df_bitcoin_limpio\n",
        "  tend=[]\n",
        "\n",
        "  response = requests.get('https://coinmarketcap.com/')\n",
        "  soup = BeautifulSoup(response.text,\"html.parser\")\n",
        "\n",
        "  datos = soup.find_all('td',style='text-align:end')\n",
        "\n",
        "  for p in datos:\n",
        "    tend.append(p.text.strip())\n",
        "\n",
        "  Bitcoin = tend[0]\n",
        "  Precio1h = tend[1]\n",
        "\n",
        "  Bitcoin=Bitcoin.replace('$',\"\").replace(\",\",\"\")\n",
        "  Precio1h = Precio1h.replace('%',\"\")\n",
        "\n",
        "  precio_actual = float(Bitcoin)\n",
        "  Precio1h = float(Precio1h)\n",
        "\n",
        "\n",
        "  t = str(datos)\n",
        "  index1 = t.find(\"iwhBxy\")\n",
        "  index2 = t.find(\"gUnzUB\")\n",
        "\n",
        "  if index1==211:\n",
        "    tendencia =\"Alta\"\n",
        "  if index2==211:\n",
        "    tendencia=\"Baja\"\n",
        "  print(\"------------------------------------\")\n",
        "  print('Bitcoin price : ',precio_actual)\n",
        "  print('Tendencia : ',tendencia)\n",
        "  print(\"------------------------------------\")"
      ]
    },
    {
      "cell_type": "markdown",
      "metadata": {
        "id": "QhzovYpfiPi6"
      },
      "source": [
        "## 3.Limpieza de datos"
      ]
    },
    {
      "cell_type": "code",
      "execution_count": null,
      "metadata": {
        "id": "BdaU6V9LlGXi"
      },
      "outputs": [],
      "source": [
        "def limpieza_datos():\n",
        "  global df_bitcoin, precio_actual,tendencia, media_bitcoin, algoritmo_decision,df_bitcoin_limpio\n",
        "  data_duplicado=[]\n",
        "  suma=0\n",
        "  IIQ=0\n",
        "\n",
        "  #copia del dataframa\n",
        "\n",
        "  df_bitcoin_limpio = df_bitcoin.copy()  #Copia de base de datos, para trabajar en ella\n",
        "\n",
        "  duplicado = df_bitcoin_limpio.index.duplicated()   # Buscar duplicados en el índice\n",
        "\n",
        "  for i in duplicado:                     # Se buscan filas del índice que estén duplicada\n",
        "    if i == True:\n",
        "      data_duplicado.append(suma)\n",
        "    suma=suma+1\n",
        "  df_bitcoin_limpio.drop(data_duplicado,inplace=True) # Se eliminan posibles duplicados en el índice ( Datetime )\n",
        "\n",
        "  #------------------------------------------------------------#\n",
        "\n",
        "  #Búsqueda de nulos en columna CLOSE\n",
        "\n",
        "  nulos_en_CLOSE = df_bitcoin_limpio['Close'].isnull()\n",
        "\n",
        "  df_bitcoin_limpio = df_bitcoin_limpio.dropna(subset =[\"Close\"])  # Se eliminan filas con nulos en columna CLOSE\n",
        "\n",
        "  #----------------------------------------------------------------#\n",
        "\n",
        "  # Eliminación de filas con 0 en columna Volume\n",
        "\n",
        "  df_bitcoin_limpio= df_bitcoin_limpio.drop(df_bitcoin_limpio[df_bitcoin_limpio[\"Volume\"] == 0].index)\n",
        "\n",
        "  #-----------------------------------------------------------------#\n",
        "\n",
        "  plt.subplot(121)\n",
        "  plt.title(\"Gráfico con todos los datos\")\n",
        "\n",
        "  # Gráfico de boxplot para la columna Close\n",
        "\n",
        "  df_bitcoin_limpio.boxplot(['Close'])\n",
        "\n",
        "  Q1 = np.quantile(df_bitcoin_limpio['Close'],0.25)\n",
        "  Q3 = np.quantile(df_bitcoin_limpio['Close'],0.75)\n",
        "\n",
        "  IIQ = Q3-Q1\n",
        "\n",
        "  print('Límite inferior', Q1-1.5*IIQ)\n",
        "  print('Límite superior', Q3+1.5*IIQ)\n",
        "\n",
        "  print('Valor de Q1:',Q1)\n",
        "  print('Valor de Q3:',Q3)\n",
        "\n",
        "  seleccion = ((df_bitcoin_limpio[\"Close\"]>=Q1) & (df_bitcoin_limpio[\"Close\"]<= Q3))\n",
        "\n",
        "  df_bitcoin_limpio = df_bitcoin_limpio[seleccion]\n",
        "\n",
        "  plt.subplot(122)\n",
        "  plt.title(\"Gráfico con datos entre Q1 y Q3\")\n",
        "\n",
        "  # Gráfico de boxplot para la columna Close\n",
        "\n",
        "  df_bitcoin_limpio.boxplot(['Close'])\n",
        "\n",
        "\n",
        "\n",
        "  #--------------------------------------------------------------------#\n",
        "  # Cálculo de la media\n",
        "  media_bitcoin = df_bitcoin_limpio['Close'].mean()\n",
        "  print(\"--------------------------------------------------------------------------------\")\n",
        "  print(\"La media de la columna Close con el nuevo rango Q1,Q3 es :\", media_bitcoin)\n",
        "  print(\"--------------------------------------------------------------------------------\")\n",
        "\n"
      ]
    },
    {
      "cell_type": "code",
      "execution_count": null,
      "metadata": {
        "id": "vu2Jw89ksG95"
      },
      "outputs": [],
      "source": []
    },
    {
      "cell_type": "markdown",
      "source": [],
      "metadata": {
        "id": "gd0AhEq4XgNC"
      }
    },
    {
      "cell_type": "markdown",
      "metadata": {
        "id": "CV2zhouUHab7"
      },
      "source": [
        "## 4. Tomar decisiones"
      ]
    },
    {
      "cell_type": "code",
      "execution_count": null,
      "metadata": {
        "id": "gXOpzqRYH-fy"
      },
      "outputs": [],
      "source": [
        "def tomar_decisiones():\n",
        "  global df_bitcoin, precio_actual,tendencia, media_bitcoin, algoritmo_decision,df_bitcoin_limpio\n",
        "\n",
        "\n",
        "  if (precio_actual >= media_bitcoin and tendencia =='Baja'):\n",
        "    algoritmo_decision = \"Vender\"\n",
        "  elif (precio_actual <= media_bitcoin and tendencia ==\"Alta\"):\n",
        "    algoritmo_decision =\"Comprar\"\n",
        "  else:\n",
        "    algoritmo_decision=\"Esperar\"\n",
        "\n",
        "\n",
        "  print(\"El algoritmo de decisión recomienda :\", algoritmo_decision)\n"
      ]
    },
    {
      "cell_type": "markdown",
      "metadata": {
        "id": "GU7ztcLyUEbW"
      },
      "source": [
        "##5. Visualización"
      ]
    },
    {
      "cell_type": "code",
      "execution_count": null,
      "metadata": {
        "id": "QiV-ZRNhUJZW"
      },
      "outputs": [],
      "source": [
        "def visualizacion():\n",
        "  global df_bitcoin, precio_actual,tendencia, media_bitcoin, algoritmo_decision,df_bitcoin_limpio\n",
        "  df_bitcoin['Promedio']=media_bitcoin\n",
        "\n",
        "  fig = plt.figure(figsize=(16,5))\n",
        "  plt.title(\"Análisis de valor BITCOIN para 7 días\")\n",
        "  x=df_bitcoin.index\n",
        "  y=df_bitcoin.Close\n",
        "  plt.plot(x,y)\n",
        "\n",
        "  x=df_bitcoin.index\n",
        "  y=df_bitcoin.Promedio\n",
        "  plt.plot(x,y,color = \"red\")\n",
        "\n",
        "\n",
        "  plt.annotate(algoritmo_decision, xy=(df_bitcoin.index[900],df_bitcoin.Close[1200]),xytext=(df_bitcoin.index[900],df_bitcoin.Close[1200]),fontsize=20,color=\"green\")\n",
        "  plt.show()\n",
        "\n"
      ]
    },
    {
      "cell_type": "markdown",
      "metadata": {
        "id": "7X-jIIflWBxn"
      },
      "source": [
        "##6. Automatización"
      ]
    },
    {
      "cell_type": "code",
      "execution_count": null,
      "metadata": {
        "id": "HvJOpbqNs1mJ"
      },
      "outputs": [],
      "source": [
        "from IPython.display import clear_output\n",
        "import time\n",
        "\n",
        "\n",
        "while(True):\n",
        "  clear_output()\n",
        "  importar_base_bitcoin()\n",
        "  extraer_tendencias()\n",
        "  limpieza_datos()\n",
        "  tomar_decisiones()\n",
        "  visualizacion()\n",
        "  time.sleep(300)"
      ]
    }
  ],
  "metadata": {
    "colab": {
      "collapsed_sections": [
        "LwB9v7j50AuE",
        "mDD6xrWh1cnB",
        "QhzovYpfiPi6",
        "CV2zhouUHab7",
        "GU7ztcLyUEbW"
      ],
      "provenance": []
    },
    "kernelspec": {
      "display_name": "Python 3",
      "name": "python3"
    },
    "language_info": {
      "name": "python"
    }
  },
  "nbformat": 4,
  "nbformat_minor": 0
}